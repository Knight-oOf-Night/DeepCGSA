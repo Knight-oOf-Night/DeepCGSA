{
 "cells": [
  {
   "cell_type": "markdown",
   "metadata": {},
   "source": [
    "# DeepCGSA---An accurate tool for calculating SASA based on CG structures. \n",
    "**<font size=4 >The following notebook gives an example of using DeepCGSA.py to predict SASA based on example files.</font>**<br>\n",
    "```\n",
    "1. Create a bash script (test.sh) to converts all-atom example pdbs to different CG structures by using -c option of DeepCGSA.py.\n",
    "2. Use DeepCGSA to predict SASA based on their CG structures, and write results to csv files.\n",
    "3. Compare prediction with reference SASA calculated by NACCESS and summarizes all results in this notebook below.\n",
    "P.S.\n",
    "1. model_weight should be copied to current work path with DeepCGSA.py together. (Also with martinize.py, if you use -c martini)\n",
    "2. To perform prediction with your own CG structures, please make sure the input file is in the same format as shown in example CG files.\n",
    "3. This script was tested on Ubuntu18, so we recommend to run DeepCGSA.py on linux system.\n",
    "```"
   ]
  },
  {
   "cell_type": "code",
   "execution_count": 1,
   "metadata": {},
   "outputs": [
    {
     "name": "stdout",
     "output_type": "stream",
     "text": [
      "Overwriting test.sh\n"
     ]
    }
   ],
   "source": [
    "%%file test.sh\n",
    "#!/bin/bash\n",
    "\n",
    "# converts all-atom pdb files to different CG structures\n",
    "cp protein_example.pdb protein_example_AA.pdb\n",
    "python DeepCGSA.py -f protein_example.pdb -c CA\n",
    "python DeepCGSA.py -f protein_example.pdb -c CACB\n",
    "python DeepCGSA.py -f protein_example.pdb -c martini   #or use martinize.py directly\n",
    "cp RNA_example.pdb RNA_example_AA.pdb\n",
    "python DeepCGSA.py -f RNA_example.pdb -c P\n",
    "python DeepCGSA.py -f RNA_example.pdb -c 3SPN\n",
    "\n",
    "# predict SASA with DeepCGSA (for CG structures) or NACCESS (for all-atom structures)\n",
    "python DeepCGSA.py -f protein_example_CA.pdb -t CA -o protein_CA\n",
    "python DeepCGSA.py -f protein_example_CACB.pdb -t CACB -o protein_CACB\n",
    "python DeepCGSA.py -f protein_example_martini.pdb -t martini -o protein_martini\n",
    "python DeepCGSA.py -f RNA_example_P.pdb -t P -o RNA_P\n",
    "python DeepCGSA.py -f RNA_example_3SPN.pdb -t 3SPN -o RNA_3SPN\n",
    "python DeepCGSA.py -f protein_example_AA.pdb -t AA -o protein_AA\n",
    "python DeepCGSA.py -f RNA_example_AA.pdb -t AA -o RNA_AA"
   ]
  },
  {
   "cell_type": "code",
   "execution_count": 2,
   "metadata": {},
   "outputs": [
    {
     "name": "stdout",
     "output_type": "stream",
     "text": [
      "Compared to all-atom calculation:\n"
     ]
    },
    {
     "data": {
      "text/html": [
       "<div>\n",
       "<style scoped>\n",
       "    .dataframe tbody tr th:only-of-type {\n",
       "        vertical-align: middle;\n",
       "    }\n",
       "\n",
       "    .dataframe tbody tr th {\n",
       "        vertical-align: top;\n",
       "    }\n",
       "\n",
       "    .dataframe thead th {\n",
       "        text-align: right;\n",
       "    }\n",
       "</style>\n",
       "<table border=\"1\" class=\"dataframe\">\n",
       "  <thead>\n",
       "    <tr style=\"text-align: right;\">\n",
       "      <th></th>\n",
       "      <th>CG type</th>\n",
       "      <th>pearson-R</th>\n",
       "    </tr>\n",
       "  </thead>\n",
       "  <tbody>\n",
       "    <tr>\n",
       "      <th>0</th>\n",
       "      <td>Cα</td>\n",
       "      <td>0.962651</td>\n",
       "    </tr>\n",
       "    <tr>\n",
       "      <th>1</th>\n",
       "      <td>Cα-Cβ</td>\n",
       "      <td>0.984619</td>\n",
       "    </tr>\n",
       "    <tr>\n",
       "      <th>2</th>\n",
       "      <td>Martini</td>\n",
       "      <td>0.987261</td>\n",
       "    </tr>\n",
       "    <tr>\n",
       "      <th>3</th>\n",
       "      <td>P-based</td>\n",
       "      <td>0.875123</td>\n",
       "    </tr>\n",
       "    <tr>\n",
       "      <th>4</th>\n",
       "      <td>3SPN</td>\n",
       "      <td>0.981319</td>\n",
       "    </tr>\n",
       "  </tbody>\n",
       "</table>\n",
       "</div>"
      ],
      "text/plain": [
       "   CG type  pearson-R\n",
       "0       Cα   0.962651\n",
       "1    Cα-Cβ   0.984619\n",
       "2  Martini   0.987261\n",
       "3  P-based   0.875123\n",
       "4     3SPN   0.981319"
      ]
     },
     "execution_count": 2,
     "metadata": {},
     "output_type": "execute_result"
    }
   ],
   "source": [
    "import os\n",
    "import numpy as np\n",
    "import pandas as pd\n",
    "import scipy.stats\n",
    "\n",
    "# predict SASA\n",
    "os.system('bash test.sh')\n",
    "df_protaa = pd.read_csv('protein_AA.csv')\n",
    "df_protca = pd.read_csv('protein_CA.csv')\n",
    "df_protcacb = pd.read_csv('protein_CACB.csv')\n",
    "df_protmartini = pd.read_csv('protein_martini.csv')\n",
    "df_rnaaa = pd.read_csv('RNA_AA.csv')\n",
    "df_rnap = pd.read_csv('RNA_P.csv')\n",
    "df_rna3spn = pd.read_csv('RNA_3SPN.csv')\n",
    "\n",
    "# summarize results\n",
    "dic = {}\n",
    "dic['CG type'] = []\n",
    "dic['pearson-R'] = []\n",
    "for name,df_pred in zip(['Cα', 'Cα-Cβ', 'Martini'],[df_protca, df_protcacb, df_protmartini]):\n",
    "    dic['CG type'].append(name)\n",
    "    dic['pearson-R'].append(scipy.stats.pearsonr(df_pred['SASA'], df_protaa['SASA'])[0])\n",
    "for name,df_pred in zip(['P-based', '3SPN'],[df_rnap, df_rna3spn]):\n",
    "    dic['CG type'].append(name)\n",
    "    dic['pearson-R'].append(scipy.stats.pearsonr(df_pred['SASA'], df_rnaaa['SASA'])[0])\n",
    "print('Compared to all-atom calculation:')\n",
    "pd.DataFrame.from_dict(dic)"
   ]
  }
 ],
 "metadata": {
  "kernelspec": {
   "display_name": "Python 3",
   "language": "python",
   "name": "python3"
  },
  "language_info": {
   "codemirror_mode": {
    "name": "ipython",
    "version": 3
   },
   "file_extension": ".py",
   "mimetype": "text/x-python",
   "name": "python",
   "nbconvert_exporter": "python",
   "pygments_lexer": "ipython3",
   "version": "3.6.10"
  }
 },
 "nbformat": 4,
 "nbformat_minor": 4
}
